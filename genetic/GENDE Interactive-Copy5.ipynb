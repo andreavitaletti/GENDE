{
 "cells": [
  {
   "cell_type": "markdown",
   "metadata": {},
   "source": [
    "# GENDE\n",
    "\n",
    "**GEN**etic **DE**sign ... notice that Gente - with a t - in Italian means people"
   ]
  },
  {
   "cell_type": "markdown",
   "metadata": {
    "internals": {
     "slide_type": "subslide"
    },
    "slideshow": {
     "slide_type": "slide"
    }
   },
   "source": [
    "# Coding the problem"
   ]
  },
  {
   "cell_type": "code",
   "execution_count": 3,
   "metadata": {
    "collapsed": false,
    "internals": {
     "frag_helper": "fragment_end",
     "frag_number": 12
    },
    "slideshow": {
     "slide_type": "-"
    }
   },
   "outputs": [],
   "source": [
    "import random\n",
    "from deap import algorithms, base, creator, tools"
   ]
  },
  {
   "cell_type": "code",
   "execution_count": 4,
   "metadata": {
    "collapsed": false,
    "internals": {
     "frag_helper": "fragment_end",
     "frag_number": 13
    },
    "slideshow": {
     "slide_type": "-"
    }
   },
   "outputs": [],
   "source": [
    "creator.create(\"FitnessMax\", base.Fitness, weights=(1.0,))\n",
    "creator.create(\"Individual\", list, fitness=creator.FitnessMax)"
   ]
  },
  {
   "cell_type": "code",
   "execution_count": 5,
   "metadata": {
    "collapsed": false,
    "internals": {},
    "slideshow": {
     "slide_type": "-"
    }
   },
   "outputs": [],
   "source": [
    "toolbox = base.Toolbox()"
   ]
  },
  {
   "cell_type": "code",
   "execution_count": 6,
   "metadata": {
    "collapsed": false,
    "internals": {
     "frag_helper": "fragment_end",
     "frag_number": 17
    },
    "slideshow": {
     "slide_type": "fragment"
    }
   },
   "outputs": [],
   "source": [
    "# random.randint Return random integers from low (INT_MIN inclusive) to high (INT_MAX exclusive).\n",
    "INT_MIN1, INT_MAX1 = 5, 7\n",
    "INT_MIN2, INT_MAX2 = 0, 9\n",
    "N_CYCLES = 1\n",
    "\n",
    "toolbox.register(\"pieces\", random.randint, INT_MIN1, INT_MAX1) \n",
    "toolbox.register(\"seed\", random.randint, INT_MIN2, INT_MAX2)\n",
    "toolbox.register(\"individual\", tools.initCycle, creator.Individual,\n",
    "                 (toolbox.pieces, toolbox.seed), n=N_CYCLES)\n",
    "\n",
    "toolbox.register(\"population\", tools.initRepeat, list, toolbox.individual)"
   ]
  },
  {
   "cell_type": "markdown",
   "metadata": {
    "internals": {
     "frag_helper": "fragment_end",
     "frag_number": 18,
     "slide_type": "subslide"
    },
    "slideshow": {
     "slide_type": "slide"
    }
   },
   "source": [
    "# Running the experiment"
   ]
  },
  {
   "cell_type": "markdown",
   "metadata": {},
   "source": [
    "## Initialization"
   ]
  },
  {
   "cell_type": "code",
   "execution_count": 24,
   "metadata": {
    "collapsed": false,
    "internals": {
     "frag_helper": "fragment_end",
     "frag_number": 18
    },
    "slideshow": {
     "slide_type": "-"
    }
   },
   "outputs": [
    {
     "name": "stdout",
     "output_type": "stream",
     "text": [
      "\n"
     ]
    }
   ],
   "source": [
    "# This is the initial population\n",
    "\n",
    "POP_SIZE=10\n",
    "GENERATION=0\n",
    "pop = toolbox.population(n=POP_SIZE) # n=300 size of the population"
   ]
  },
  {
   "cell_type": "code",
   "execution_count": 25,
   "metadata": {
    "collapsed": false
   },
   "outputs": [
    {
     "name": "stdout",
     "output_type": "stream",
     "text": [
      "[[0, 1], [0, 2], [0, 3], [0, 4], [0, 5], [0, 6], [0, 7], [0, 8], [0, 9], [1, 2], [1, 3], [1, 4], [1, 5], [1, 6], [1, 7], [1, 8], [1, 9], [2, 3], [2, 4], [2, 5], [2, 6], [2, 7], [2, 8], [2, 9], [3, 4], [3, 5], [3, 6], [3, 7], [3, 8], [3, 9], [4, 5], [4, 6], [4, 7], [4, 8], [4, 9], [5, 6], [5, 7], [5, 8], [5, 9], [6, 7], [6, 8], [6, 9], [7, 8], [7, 9], [8, 9]]\n"
     ]
    }
   ],
   "source": [
    "# These are the combinations to allow user to evaluate all possible pairs of individuals\n",
    "\n",
    "import itertools\n",
    "import json\n",
    "\n",
    "output = list(itertools.combinations(list(xrange(POP_SIZE)),2))\n",
    "\n",
    "print json.dumps(output)"
   ]
  },
  {
   "cell_type": "code",
   "execution_count": 26,
   "metadata": {
    "collapsed": false
   },
   "outputs": [
    {
     "name": "stdout",
     "output_type": "stream",
     "text": [
      "{\"combinations\": [[0, 1], [0, 2], [0, 3], [0, 4], [0, 5], [0, 6], [0, 7], [0, 8], [0, 9], [1, 2], [1, 3], [1, 4], [1, 5], [1, 6], [1, 7], [1, 8], [1, 9], [2, 3], [2, 4], [2, 5], [2, 6], [2, 7], [2, 8], [2, 9], [3, 4], [3, 5], [3, 6], [3, 7], [3, 8], [3, 9], [4, 5], [4, 6], [4, 7], [4, 8], [4, 9], [5, 6], [5, 7], [5, 8], [5, 9], [6, 7], [6, 8], [6, 9], [7, 8], [7, 9], [8, 9]], \"current_experiment\": 0, \"current_generation\": 0, \"population\": [{\"chromosome\": {\"seed\": 5, \"pieces\": 9}, \"fitness\": 0}, {\"chromosome\": {\"seed\": 7, \"pieces\": 0}, \"fitness\": 0}, {\"chromosome\": {\"seed\": 7, \"pieces\": 0}, \"fitness\": 0}, {\"chromosome\": {\"seed\": 6, \"pieces\": 2}, \"fitness\": 0}, {\"chromosome\": {\"seed\": 7, \"pieces\": 1}, \"fitness\": 0}, {\"chromosome\": {\"seed\": 7, \"pieces\": 9}, \"fitness\": 0}, {\"chromosome\": {\"seed\": 5, \"pieces\": 3}, \"fitness\": 0}, {\"chromosome\": {\"seed\": 5, \"pieces\": 5}, \"fitness\": 0}, {\"chromosome\": {\"seed\": 5, \"pieces\": 7}, \"fitness\": 0}, {\"chromosome\": {\"seed\": 6, \"pieces\": 9}, \"fitness\": 0}]}\n"
     ]
    }
   ],
   "source": [
    "# Init json file\n",
    "\n",
    "jfile = {}\n",
    "\n",
    "populat = []\n",
    "\n",
    "for i in pop:\n",
    "    dict2 = {}\n",
    "    dict2[\"seed\"] = i[0]\n",
    "    dict2[\"pieces\"] = i[1]\n",
    "\n",
    "    dict3 = {}\n",
    "    dict3[\"chromosome\"]=dict2\n",
    "    dict3[\"fitness\"]=0\n",
    "    populat.append(dict3)\n",
    "    \n",
    "jfile[\"combinations\"] = output\n",
    "jfile[\"population\"]=populat\n",
    "jfile[\"current_experiment\"] = 0\n",
    "jfile[\"current_generation\"] = 0\n",
    "\n",
    "\n",
    "print json.dumps(jfile)\n",
    "\n",
    "with open(\"generation\"+str(GENERATION)+\".json\", \"w\") as outfile:\n",
    "    json.dump(jfile, outfile, indent=4)\n",
    "\n"
   ]
  },
  {
   "cell_type": "markdown",
   "metadata": {},
   "source": [
    "## Evolution and user feedback"
   ]
  },
  {
   "cell_type": "code",
   "execution_count": 30,
   "metadata": {
    "collapsed": false
   },
   "outputs": [
    {
     "name": "stdout",
     "output_type": "stream",
     "text": [
      "generation in input0\n",
      "0.0 [5, 9] -2305370892008763888\n",
      "0.666666666667 [7, 0] -5637750701868624575\n",
      "0.333333333333 [7, 0] -5637750701868624575\n",
      "0.0 [6, 2] 365995503296272002\n",
      "0.0 [7, 1] -5637750701867624698\n",
      "0.0 [7, 9] -5637750701875624674\n",
      "0.0 [5, 3] -2305370892014763806\n",
      "0.0 [5, 5] -2305370892012763804\n",
      "0.0 [5, 7] -2305370892010763874\n",
      "0.0 [6, 9] 365995503301272179\n",
      "{-5637750701868624575: 0.3333333333333333, 365995503296272002: 0.0, -2305370892012763804: 0.0, -5637750701867624698: 0.0, -2305370892014763806: 0.0, -2305370892008763888: 0.0, 365995503301272179: 0.0, -2305370892010763874: 0.0, -5637750701875624674: 0.0}\n"
     ]
    }
   ],
   "source": [
    "# Normalization of fitness\n",
    "\n",
    "#individual as they are are not hashable. The follwing function transforms individuals into strings that are hashable\n",
    "# two individuals with the same hash are identical and indistinguishable\n",
    "def easy_hash(individual):\n",
    "    return hash(str(individual))\n",
    "\n",
    "import json\n",
    "\n",
    "g = input(\"generation in input\")\n",
    "\n",
    "with open(\"generation\"+str(g)+\".json\") as json_data:\n",
    "    d = json.load(json_data)\n",
    "    # print(d['population'][0]['chromosome'])\n",
    "\n",
    "f = 0;    \n",
    "for i in d['population']:\n",
    "    f=f+i['fitness']\n",
    "    \n",
    "user_evaluation={}    \n",
    "\n",
    "if (f==0):\n",
    "    print \"something went wrong ... there are no user feedback in the json file. Please check.\"\n",
    "else:\n",
    "    for i in d['population']:\n",
    "        i['fitness'] = i['fitness']/float(f)\n",
    "        print i['fitness'], [i['chromosome']['seed'],i['chromosome']['pieces']],easy_hash([i['chromosome']['seed'],i['chromosome']['pieces']])\n",
    "        user_evaluation[easy_hash([i['chromosome']['seed'],i['chromosome']['pieces']])]=i['fitness']\n",
    "    \n",
    "print user_evaluation"
   ]
  },
  {
   "cell_type": "code",
   "execution_count": 31,
   "metadata": {
    "collapsed": false
   },
   "outputs": [
    {
     "name": "stdout",
     "output_type": "stream",
     "text": [
      "-2305370892008763888 0.0\n",
      "-5637750701868624575 0.333333333333\n",
      "-5637750701868624575 0.333333333333\n",
      "365995503296272002 0.0\n",
      "-5637750701867624698 0.0\n",
      "-5637750701875624674 0.0\n",
      "-2305370892014763806 0.0\n",
      "-2305370892012763804 0.0\n",
      "-2305370892010763874 0.0\n",
      "365995503301272179 0.0\n"
     ]
    }
   ],
   "source": [
    "for ind in pop:\n",
    "    print easy_hash(ind), user_evaluation[easy_hash(ind)]"
   ]
  },
  {
   "cell_type": "code",
   "execution_count": 32,
   "metadata": {
    "collapsed": true
   },
   "outputs": [],
   "source": [
    "def InteractiveFitness(individual):\n",
    "    if easy_hash(individual) in user_evaluation:\n",
    "        return (user_evaluation[easy_hash(individual)],)\n",
    "    else:\n",
    "        return (0.0,)"
   ]
  },
  {
   "cell_type": "code",
   "execution_count": 33,
   "metadata": {
    "collapsed": true
   },
   "outputs": [],
   "source": [
    "toolbox.register(\"evaluate\", InteractiveFitness)\n",
    "toolbox.register(\"mate\", tools.cxTwoPoint)\n",
    "toolbox.register(\"mutate\", tools.mutFlipBit, indpb=0.05)\n",
    "toolbox.register(\"select\", tools.selTournament, tournsize=3)"
   ]
  },
  {
   "cell_type": "code",
   "execution_count": 34,
   "metadata": {
    "collapsed": false
   },
   "outputs": [
    {
     "name": "stdout",
     "output_type": "stream",
     "text": [
      "Current Generation 1\n"
     ]
    }
   ],
   "source": [
    "GEN_SIZE = 1\n",
    "GENERATION=GENERATION+GEN_SIZE\n",
    "print(\"Current Generation \"+str(GENERATION))\n",
    "result = algorithms.eaSimple(pop, toolbox, cxpb=0.5, mutpb=0.2, ngen=GEN_SIZE, verbose=False)"
   ]
  },
  {
   "cell_type": "code",
   "execution_count": 35,
   "metadata": {
    "collapsed": false
   },
   "outputs": [
    {
     "name": "stdout",
     "output_type": "stream",
     "text": [
      "{\"combinations\": [[0, 1], [0, 2], [0, 3], [0, 4], [0, 5], [0, 6], [0, 7], [0, 8], [0, 9], [1, 2], [1, 3], [1, 4], [1, 5], [1, 6], [1, 7], [1, 8], [1, 9], [2, 3], [2, 4], [2, 5], [2, 6], [2, 7], [2, 8], [2, 9], [3, 4], [3, 5], [3, 6], [3, 7], [3, 8], [3, 9], [4, 5], [4, 6], [4, 7], [4, 8], [4, 9], [5, 6], [5, 7], [5, 8], [5, 9], [6, 7], [6, 8], [6, 9], [7, 8], [7, 9], [8, 9]], \"current_experiment\": 0, \"current_generation\": 0, \"population\": [{\"chromosome\": {\"seed\": 7, \"pieces\": 9}, \"fitness\": 0}, {\"chromosome\": {\"seed\": 7, \"pieces\": 0}, \"fitness\": 0}, {\"chromosome\": {\"seed\": 7, \"pieces\": 0}, \"fitness\": 0}, {\"chromosome\": {\"seed\": 7, \"pieces\": 0}, \"fitness\": 0}, {\"chromosome\": {\"seed\": 7, \"pieces\": 0}, \"fitness\": 0}, {\"chromosome\": {\"seed\": 7, \"pieces\": 0}, \"fitness\": 0}, {\"chromosome\": {\"seed\": 7, \"pieces\": 9}, \"fitness\": 0}, {\"chromosome\": {\"seed\": 7, \"pieces\": 0}, \"fitness\": 0}, {\"chromosome\": {\"seed\": 7, \"pieces\": 0}, \"fitness\": 0}, {\"chromosome\": {\"seed\": 7, \"pieces\": 0}, \"fitness\": 0}]}\n"
     ]
    }
   ],
   "source": [
    "#Next generation\n",
    "\n",
    "jfile = {}\n",
    "\n",
    "populat = []\n",
    "\n",
    "for i in pop:\n",
    "    dict2 = {}\n",
    "    dict2[\"seed\"] = i[0]\n",
    "    dict2[\"pieces\"] = i[1]\n",
    "\n",
    "    dict3 = {}\n",
    "    dict3[\"chromosome\"]=dict2\n",
    "    dict3[\"fitness\"]=0\n",
    "    populat.append(dict3)\n",
    "    \n",
    "jfile[\"combinations\"] = output\n",
    "jfile[\"population\"]=populat\n",
    "jfile[\"current_experiment\"] = 0\n",
    "jfile[\"current_generation\"] = 0\n",
    "\n",
    "\n",
    "print json.dumps(jfile)\n",
    "\n",
    "with open(\"generation\"+str(GENERATION)+\".json\", \"w\") as outfile:\n",
    "    json.dump(jfile, outfile, indent=4)"
   ]
  },
  {
   "cell_type": "code",
   "execution_count": null,
   "metadata": {
    "collapsed": true
   },
   "outputs": [],
   "source": []
  }
 ],
 "metadata": {
  "kernelspec": {
   "display_name": "Python 2",
   "language": "python",
   "name": "python2"
  },
  "language_info": {
   "codemirror_mode": {
    "name": "ipython",
    "version": 2
   },
   "file_extension": ".py",
   "mimetype": "text/x-python",
   "name": "python",
   "nbconvert_exporter": "python",
   "pygments_lexer": "ipython2",
   "version": "2.7.11+"
  }
 },
 "nbformat": 4,
 "nbformat_minor": 0
}
