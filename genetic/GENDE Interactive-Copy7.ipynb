{
 "cells": [
  {
   "cell_type": "markdown",
   "metadata": {},
   "source": [
    "# GENDE\n",
    "\n",
    "**GEN**etic **DE**sign ... notice that Gente - with a t - in Italian means people"
   ]
  },
  {
   "cell_type": "markdown",
   "metadata": {
    "internals": {
     "slide_type": "subslide"
    },
    "slideshow": {
     "slide_type": "slide"
    }
   },
   "source": [
    "# Coding the problem"
   ]
  },
  {
   "cell_type": "code",
   "execution_count": 19,
   "metadata": {
    "collapsed": false,
    "internals": {
     "frag_helper": "fragment_end",
     "frag_number": 12
    },
    "slideshow": {
     "slide_type": "-"
    }
   },
   "outputs": [],
   "source": [
    "import random\n",
    "from deap import algorithms, base, creator, tools"
   ]
  },
  {
   "cell_type": "code",
   "execution_count": 20,
   "metadata": {
    "collapsed": false,
    "internals": {
     "frag_helper": "fragment_end",
     "frag_number": 13
    },
    "slideshow": {
     "slide_type": "-"
    }
   },
   "outputs": [],
   "source": [
    "creator.create(\"FitnessMax\", base.Fitness, weights=(1.0,))\n",
    "creator.create(\"Individual\", list, fitness=creator.FitnessMax)"
   ]
  },
  {
   "cell_type": "code",
   "execution_count": 21,
   "metadata": {
    "collapsed": false,
    "internals": {},
    "slideshow": {
     "slide_type": "-"
    }
   },
   "outputs": [],
   "source": [
    "toolbox = base.Toolbox()"
   ]
  },
  {
   "cell_type": "code",
   "execution_count": 22,
   "metadata": {
    "collapsed": false,
    "internals": {
     "frag_helper": "fragment_end",
     "frag_number": 17
    },
    "slideshow": {
     "slide_type": "fragment"
    }
   },
   "outputs": [],
   "source": [
    "# random.randint Return random integers from low (INT_MIN inclusive) to high (INT_MAX exclusive).\n",
    "# the earing is made of 8 elements each defined by sides and radius \n",
    "# each element can be inhibited \n",
    "# --> [sides0,radius0,inhibited0,...,sides7,radius7,inhibited7].\n",
    "\n",
    "SIDES_MIN, SIDES_MAX = 1, 9\n",
    "RADIUS_MIN, RADIUS_MAX = 1, 41\n",
    "ELEMENTS = 8\n",
    "\n",
    "toolbox.register(\"sides\", random.randint, SIDES_MIN, SIDES_MAX) \n",
    "toolbox.register(\"radius\", random.randint, RADIUS_MIN, RADIUS_MAX)\n",
    "toolbox.register(\"inhibitor\", random.randint,0,1)\n",
    "toolbox.register(\"individual\", tools.initCycle, creator.Individual,\n",
    "                 (toolbox.sides, toolbox.radius, toolbox.inhibitor), n=ELEMENTS)\n",
    "\n",
    "toolbox.register(\"population\", tools.initRepeat, list, toolbox.individual)"
   ]
  },
  {
   "cell_type": "markdown",
   "metadata": {
    "internals": {
     "frag_helper": "fragment_end",
     "frag_number": 18,
     "slide_type": "subslide"
    },
    "slideshow": {
     "slide_type": "slide"
    }
   },
   "source": [
    "# Running the experiment"
   ]
  },
  {
   "cell_type": "markdown",
   "metadata": {},
   "source": [
    "## Initialization"
   ]
  },
  {
   "cell_type": "code",
   "execution_count": 23,
   "metadata": {
    "collapsed": false,
    "internals": {
     "frag_helper": "fragment_end",
     "frag_number": 18
    },
    "slideshow": {
     "slide_type": "-"
    }
   },
   "outputs": [],
   "source": [
    "# This is the initial population\n",
    "\n",
    "POP_SIZE=10\n",
    "GENERATION=0\n",
    "pop = toolbox.population(n=POP_SIZE) # n=300 size of the population"
   ]
  },
  {
   "cell_type": "code",
   "execution_count": 24,
   "metadata": {
    "collapsed": false
   },
   "outputs": [
    {
     "name": "stdout",
     "output_type": "stream",
     "text": [
      "[[0, 1], [0, 2], [0, 3], [0, 4], [0, 5], [0, 6], [0, 7], [0, 8], [0, 9], [1, 2], [1, 3], [1, 4], [1, 5], [1, 6], [1, 7], [1, 8], [1, 9], [2, 3], [2, 4], [2, 5], [2, 6], [2, 7], [2, 8], [2, 9], [3, 4], [3, 5], [3, 6], [3, 7], [3, 8], [3, 9], [4, 5], [4, 6], [4, 7], [4, 8], [4, 9], [5, 6], [5, 7], [5, 8], [5, 9], [6, 7], [6, 8], [6, 9], [7, 8], [7, 9], [8, 9]]\n"
     ]
    }
   ],
   "source": [
    "# These are the combinations to allow user to evaluate all possible pairs of individuals\n",
    "\n",
    "import itertools\n",
    "import json\n",
    "\n",
    "output = list(itertools.combinations(list(xrange(POP_SIZE)),2))\n",
    "\n",
    "print json.dumps(output)"
   ]
  },
  {
   "cell_type": "code",
   "execution_count": 25,
   "metadata": {
    "collapsed": false
   },
   "outputs": [
    {
     "name": "stdout",
     "output_type": "stream",
     "text": [
      "{\"combinations\": [[0, 1], [0, 2], [0, 3], [0, 4], [0, 5], [0, 6], [0, 7], [0, 8], [0, 9], [1, 2], [1, 3], [1, 4], [1, 5], [1, 6], [1, 7], [1, 8], [1, 9], [2, 3], [2, 4], [2, 5], [2, 6], [2, 7], [2, 8], [2, 9], [3, 4], [3, 5], [3, 6], [3, 7], [3, 8], [3, 9], [4, 5], [4, 6], [4, 7], [4, 8], [4, 9], [5, 6], [5, 7], [5, 8], [5, 9], [6, 7], [6, 8], [6, 9], [7, 8], [7, 9], [8, 9]], \"generation\": 0, \"experiment\": 0, \"round\": 0, \"population\": [{\"positive_feedback\": 0, \"chromosome\": [9, 33, 0, 9, 38, 0, 4, 28, 0, 7, 2, 0, 5, 38, 0, 8, 20, 1, 8, 5, 1, 6, 17, 1]}, {\"positive_feedback\": 0, \"chromosome\": [7, 28, 1, 5, 37, 1, 5, 31, 0, 5, 13, 0, 7, 20, 1, 3, 24, 0, 7, 31, 1, 4, 22, 0]}, {\"positive_feedback\": 0, \"chromosome\": [1, 10, 0, 6, 35, 1, 3, 4, 1, 2, 1, 1, 2, 35, 0, 5, 3, 1, 8, 39, 0, 2, 4, 0]}, {\"positive_feedback\": 0, \"chromosome\": [8, 34, 1, 2, 38, 1, 7, 30, 0, 2, 11, 0, 7, 20, 1, 5, 16, 1, 8, 32, 0, 4, 17, 0]}, {\"positive_feedback\": 0, \"chromosome\": [4, 13, 0, 1, 5, 1, 2, 12, 0, 3, 29, 0, 7, 38, 0, 1, 19, 0, 5, 24, 0, 4, 8, 1]}, {\"positive_feedback\": 0, \"chromosome\": [6, 6, 0, 7, 33, 1, 7, 40, 1, 3, 4, 0, 4, 15, 1, 3, 15, 1, 1, 7, 1, 6, 35, 1]}, {\"positive_feedback\": 0, \"chromosome\": [8, 37, 1, 5, 41, 1, 1, 33, 1, 4, 17, 0, 8, 13, 1, 6, 26, 0, 4, 11, 0, 7, 13, 0]}, {\"positive_feedback\": 0, \"chromosome\": [1, 6, 0, 6, 6, 0, 7, 28, 1, 9, 38, 0, 1, 24, 1, 6, 20, 1, 2, 28, 1, 3, 11, 1]}, {\"positive_feedback\": 0, \"chromosome\": [2, 3, 1, 5, 29, 1, 8, 33, 1, 7, 36, 1, 1, 41, 1, 9, 31, 1, 9, 29, 1, 2, 17, 1]}, {\"positive_feedback\": 0, \"chromosome\": [6, 12, 1, 8, 3, 1, 5, 40, 1, 2, 40, 1, 8, 28, 0, 8, 17, 1, 7, 35, 1, 9, 33, 0]}]}\n"
     ]
    }
   ],
   "source": [
    "# Init json file\n",
    "\n",
    "jfile = {}\n",
    "\n",
    "populat = []\n",
    "\n",
    "for i in pop:\n",
    "    dict2 = {}\n",
    "    dict2[\"chromosome\"] = i\n",
    "    dict2[\"positive_feedback\"]=0\n",
    "    populat.append(dict2)\n",
    "    \n",
    "jfile[\"combinations\"] = output\n",
    "jfile[\"population\"]=populat\n",
    "jfile[\"experiment\"] = 0\n",
    "jfile[\"generation\"] = 0\n",
    "jfile[\"round\"] = 0\n",
    "\n",
    "\n",
    "print json.dumps(jfile)\n",
    "\n",
    "with open(\"generation\"+str(GENERATION)+\".json\", \"w\") as outfile:\n",
    "    json.dump(jfile, outfile, indent=4)\n",
    "\n"
   ]
  },
  {
   "cell_type": "markdown",
   "metadata": {},
   "source": [
    "## Evolution and user feedback"
   ]
  },
  {
   "cell_type": "code",
   "execution_count": 26,
   "metadata": {
    "collapsed": false
   },
   "outputs": [
    {
     "name": "stdout",
     "output_type": "stream",
     "text": [
      "generation in input5\n",
      "0.4 [9, 33, 0, 9, 38, 0, 4, 28, 0, 7, 2, 0, 5, 38, 0, 8, 20, 1, 8, 5, 1, 6, 17, 1] 1347298642323546298\n",
      "0.2 [7, 28, 1, 5, 37, 1, 5, 31, 0, 5, 13, 0, 7, 20, 1, 3, 24, 0, 7, 31, 1, 4, 22, 0] -4365277666897989187\n",
      "0.0 [1, 10, 0, 6, 35, 1, 3, 4, 1, 2, 1, 1, 2, 35, 0, 5, 3, 1, 8, 39, 0, 2, 4, 0] -6192707143203914796\n",
      "0.2 [8, 34, 1, 2, 38, 1, 7, 30, 0, 2, 11, 0, 7, 20, 1, 5, 16, 1, 8, 32, 0, 4, 17, 0] -7433018794070422578\n",
      "0.0 [4, 13, 0, 1, 5, 1, 2, 12, 0, 3, 29, 0, 7, 38, 0, 1, 19, 0, 5, 24, 0, 4, 8, 1] 5018265118346357445\n",
      "0.2 [6, 6, 0, 7, 33, 1, 7, 40, 1, 3, 4, 0, 4, 15, 1, 3, 15, 1, 1, 7, 1, 6, 35, 1] 7983860201738009921\n",
      "0.0 [8, 37, 1, 5, 41, 1, 1, 33, 1, 4, 17, 0, 8, 13, 1, 6, 26, 0, 4, 11, 0, 7, 13, 0] 3799294045055283402\n",
      "0.0 [1, 6, 0, 6, 6, 0, 7, 28, 1, 9, 38, 0, 1, 24, 1, 6, 20, 1, 2, 28, 1, 3, 11, 1] -1013210383911360411\n",
      "0.0 [2, 3, 1, 5, 29, 1, 8, 33, 1, 7, 36, 1, 1, 41, 1, 9, 31, 1, 9, 29, 1, 2, 17, 1] 2923224605649623841\n",
      "0.0 [6, 12, 1, 8, 3, 1, 5, 40, 1, 2, 40, 1, 8, 28, 0, 8, 17, 1, 7, 35, 1, 9, 33, 0] -7859972720050405308\n",
      "{7983860201738009921: 0.2, -7859972720050405308: 0.0, 5018265118346357445: 0.0, 2923224605649623841: 0.0, 3799294045055283402: 0.0, -7433018794070422578: 0.2, -6192707143203914796: 0.0, 1347298642323546298: 0.4, -4365277666897989187: 0.2, -1013210383911360411: 0.0}\n"
     ]
    }
   ],
   "source": [
    "# Normalization of fitness\n",
    "\n",
    "#individual as they are are not hashable. The follwing function transforms individuals into strings that are hashable\n",
    "# two individuals with the same hash are identical and indistinguishable\n",
    "def easy_hash(individual):\n",
    "    return hash(str(individual))\n",
    "\n",
    "import json\n",
    "\n",
    "g = input(\"generation in input\")\n",
    "\n",
    "with open(\"generation\"+str(g)+\".json\") as json_data:\n",
    "    d = json.load(json_data)\n",
    "    # print(d['population'][0]['chromosome'])\n",
    "\n",
    "f = 0;    \n",
    "for i in d['population']:\n",
    "    f=f+i['positive_feedback']\n",
    "    \n",
    "user_evaluation={}    \n",
    "\n",
    "if (f==0):\n",
    "    print \"something went wrong ... there are no user feedback in the json file. Please check.\"\n",
    "else:\n",
    "    for i in d['population']:\n",
    "        i['positive_feedback'] = i['positive_feedback']/float(f)\n",
    "        print i['positive_feedback'], i['chromosome'],easy_hash(i['chromosome'])\n",
    "        user_evaluation[easy_hash(i['chromosome'])]=i['positive_feedback']\n",
    "    \n",
    "print user_evaluation"
   ]
  },
  {
   "cell_type": "code",
   "execution_count": 27,
   "metadata": {
    "collapsed": false
   },
   "outputs": [
    {
     "name": "stdout",
     "output_type": "stream",
     "text": [
      "1347298642323546298 0.4\n",
      "-4365277666897989187 0.2\n",
      "-6192707143203914796 0.0\n",
      "-7433018794070422578 0.2\n",
      "5018265118346357445 0.0\n",
      "7983860201738009921 0.2\n",
      "3799294045055283402 0.0\n",
      "-1013210383911360411 0.0\n",
      "2923224605649623841 0.0\n",
      "-7859972720050405308 0.0\n"
     ]
    }
   ],
   "source": [
    "for ind in pop:\n",
    "    print easy_hash(ind), user_evaluation[easy_hash(ind)]"
   ]
  },
  {
   "cell_type": "code",
   "execution_count": 28,
   "metadata": {
    "collapsed": true
   },
   "outputs": [],
   "source": [
    "def InteractiveFitness(individual):\n",
    "    if easy_hash(individual) in user_evaluation:\n",
    "        return (user_evaluation[easy_hash(individual)],)\n",
    "    else:\n",
    "        return (0.0,)"
   ]
  },
  {
   "cell_type": "code",
   "execution_count": 29,
   "metadata": {
    "collapsed": true
   },
   "outputs": [],
   "source": [
    "toolbox.register(\"evaluate\", InteractiveFitness)\n",
    "toolbox.register(\"mate\", tools.cxTwoPoint)\n",
    "toolbox.register(\"mutate\", tools.mutFlipBit, indpb=0.05)\n",
    "toolbox.register(\"select\", tools.selTournament, tournsize=3)"
   ]
  },
  {
   "cell_type": "code",
   "execution_count": 30,
   "metadata": {
    "collapsed": false
   },
   "outputs": [
    {
     "name": "stdout",
     "output_type": "stream",
     "text": [
      "Current Generation 1\n"
     ]
    }
   ],
   "source": [
    "GEN_SIZE = 1\n",
    "GENERATION=GENERATION+GEN_SIZE\n",
    "print(\"Current Generation \"+str(GENERATION))\n",
    "result = algorithms.eaSimple(pop, toolbox, cxpb=0.5, mutpb=0.2, ngen=GEN_SIZE, verbose=False)"
   ]
  },
  {
   "cell_type": "code",
   "execution_count": 31,
   "metadata": {
    "collapsed": false
   },
   "outputs": [
    {
     "name": "stdout",
     "output_type": "stream",
     "text": [
      "{\"combinations\": [[0, 1], [0, 2], [0, 3], [0, 4], [0, 5], [0, 6], [0, 7], [0, 8], [0, 9], [1, 2], [1, 3], [1, 4], [1, 5], [1, 6], [1, 7], [1, 8], [1, 9], [2, 3], [2, 4], [2, 5], [2, 6], [2, 7], [2, 8], [2, 9], [3, 4], [3, 5], [3, 6], [3, 7], [3, 8], [3, 9], [4, 5], [4, 6], [4, 7], [4, 8], [4, 9], [5, 6], [5, 7], [5, 8], [5, 9], [6, 7], [6, 8], [6, 9], [7, 8], [7, 9], [8, 9]], \"generation\": 0, \"experiment\": 0, \"round\": 0, \"population\": [{\"positive_feedback\": 0, \"chromosome\": [8, 34, 1, 2, 38, 1, 7, 30, 0, 2, 11, 0, 7, 20, 1, 5, 16, 1, 8, 32, 0, 4, 17, 0]}, {\"positive_feedback\": 0, \"chromosome\": [9, 33, 0, 9, 38, 1, 0, 28, 0, 7, 2, 0, 5, 38, 0, 8, 20, 1, 8, 5, 1, 6, 17, 1]}, {\"positive_feedback\": 0, \"chromosome\": [9, 33, 0, 9, 38, 0, 4, 28, 0, 7, 2, 1, 5, 38, 0, 8, 20, 1, 0, 5, 1, 6, 17, 1]}, {\"positive_feedback\": 0, \"chromosome\": [9, 33, 0, 9, 38, 0, 4, 28, 0, 7, 2, 0, 5, 38, 0, 8, 20, 1, 8, 5, 1, 6, 17, 1]}, {\"positive_feedback\": 0, \"chromosome\": [7, 28, 1, 5, 37, 1, 5, 31, 0, 5, 13, 0, 7, 20, 1, 3, 24, 0, 7, 31, 1, 4, 22, 0]}, {\"positive_feedback\": 0, \"chromosome\": [1, 6, 0, 6, 6, 0, 7, 28, 1, 9, 38, 0, 1, 24, 1, 6, 20, 1, 2, 28, 1, 3, 11, 1]}, {\"positive_feedback\": 0, \"chromosome\": [8, 34, 1, 2, 0, 1, 7, 30, 0, 2, 11, 0, 7, 20, 1, 5, 16, 1, 8, 32, 0, 4, 17, 0]}, {\"positive_feedback\": 0, \"chromosome\": [2, 3, 1, 5, 29, 1, 8, 33, 1, 7, 36, 1, 1, 41, 1, 9, 31, 1, 9, 29, 1, 2, 17, 1]}, {\"positive_feedback\": 0, \"chromosome\": [8, 34, 1, 2, 38, 1, 7, 30, 0, 2, 11, 0, 7, 20, 1, 5, 16, 1, 8, 32, 0, 4, 17, 0]}, {\"positive_feedback\": 0, \"chromosome\": [8, 34, 1, 2, 38, 1, 7, 30, 0, 2, 11, 0, 7, 20, 1, 5, 16, 1, 8, 32, 0, 4, 17, 0]}]}\n"
     ]
    }
   ],
   "source": [
    "#Next generation\n",
    "\n",
    "jfile = {}\n",
    "\n",
    "populat = []\n",
    "\n",
    "for i in pop:\n",
    "    dict2 = {}\n",
    "    dict2[\"chromosome\"] = i\n",
    "    dict2[\"positive_feedback\"]=0\n",
    "    populat.append(dict2)\n",
    "    \n",
    "jfile[\"combinations\"] = output\n",
    "jfile[\"population\"]=populat\n",
    "jfile[\"experiment\"] = 0\n",
    "jfile[\"generation\"] = 0\n",
    "jfile[\"round\"] = 0\n",
    "\n",
    "\n",
    "print json.dumps(jfile)\n",
    "\n",
    "with open(\"generation\"+str(GENERATION)+\".json\", \"w\") as outfile:\n",
    "    json.dump(jfile, outfile, indent=4)"
   ]
  },
  {
   "cell_type": "code",
   "execution_count": null,
   "metadata": {
    "collapsed": true
   },
   "outputs": [],
   "source": []
  }
 ],
 "metadata": {
  "kernelspec": {
   "display_name": "Python 2",
   "language": "python",
   "name": "python2"
  },
  "language_info": {
   "codemirror_mode": {
    "name": "ipython",
    "version": 2
   },
   "file_extension": ".py",
   "mimetype": "text/x-python",
   "name": "python",
   "nbconvert_exporter": "python",
   "pygments_lexer": "ipython2",
   "version": "2.7.11+"
  }
 },
 "nbformat": 4,
 "nbformat_minor": 0
}
