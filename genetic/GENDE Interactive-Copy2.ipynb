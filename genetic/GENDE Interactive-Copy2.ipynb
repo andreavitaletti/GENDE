{
 "cells": [
  {
   "cell_type": "markdown",
   "metadata": {},
   "source": [
    "# GENDE\n",
    "\n",
    "**GEN**etic **DE**sign ... notice that Gente - with a t - in Italian means people"
   ]
  },
  {
   "cell_type": "markdown",
   "metadata": {
    "internals": {
     "slide_type": "subslide"
    },
    "slideshow": {
     "slide_type": "slide"
    }
   },
   "source": [
    "# Coding the problem"
   ]
  },
  {
   "cell_type": "code",
   "execution_count": 1,
   "metadata": {
    "collapsed": false,
    "internals": {
     "frag_helper": "fragment_end",
     "frag_number": 12
    },
    "slideshow": {
     "slide_type": "-"
    }
   },
   "outputs": [],
   "source": [
    "import random\n",
    "from deap import algorithms, base, creator, tools"
   ]
  },
  {
   "cell_type": "code",
   "execution_count": 2,
   "metadata": {
    "collapsed": false,
    "internals": {
     "frag_helper": "fragment_end",
     "frag_number": 13
    },
    "slideshow": {
     "slide_type": "-"
    }
   },
   "outputs": [],
   "source": [
    "creator.create(\"FitnessMax\", base.Fitness, weights=(1.0,))\n",
    "creator.create(\"Individual\", list, fitness=creator.FitnessMax)"
   ]
  },
  {
   "cell_type": "code",
   "execution_count": 3,
   "metadata": {
    "collapsed": false,
    "internals": {},
    "slideshow": {
     "slide_type": "-"
    }
   },
   "outputs": [],
   "source": [
    "toolbox = base.Toolbox()"
   ]
  },
  {
   "cell_type": "code",
   "execution_count": 28,
   "metadata": {
    "collapsed": false,
    "internals": {
     "frag_helper": "fragment_end",
     "frag_number": 17
    },
    "slideshow": {
     "slide_type": "fragment"
    }
   },
   "outputs": [],
   "source": [
    "INT_MIN, INT_MAX = 5, 7\n",
    "FLT_MIN, FLT_MAX = -0.2, 0.8\n",
    "N_CYCLES = 1\n",
    "\n",
    "toolbox.register(\"attr_int\", random.randint, INT_MIN, INT_MAX)\n",
    "toolbox.register(\"attr_flt\", random.uniform, FLT_MIN, FLT_MAX)\n",
    "toolbox.register(\"individual\", tools.initCycle, creator.Individual,\n",
    "                 (toolbox.attr_int, toolbox.attr_flt), n=N_CYCLES)\n",
    "\n",
    "toolbox.register(\"population\", tools.initRepeat, list, toolbox.individual)"
   ]
  },
  {
   "cell_type": "markdown",
   "metadata": {
    "internals": {
     "frag_helper": "fragment_end",
     "frag_number": 18,
     "slide_type": "subslide"
    },
    "slideshow": {
     "slide_type": "slide"
    }
   },
   "source": [
    "# Running the experiment"
   ]
  },
  {
   "cell_type": "code",
   "execution_count": 29,
   "metadata": {
    "collapsed": false,
    "internals": {
     "frag_helper": "fragment_end",
     "frag_number": 18
    },
    "slideshow": {
     "slide_type": "-"
    }
   },
   "outputs": [],
   "source": [
    "# This is the initial population\n",
    "\n",
    "POP_SIZE=10\n",
    "GENERATION=0\n",
    "pop = toolbox.population(n=POP_SIZE) # n=300 size of the population"
   ]
  },
  {
   "cell_type": "code",
   "execution_count": 30,
   "metadata": {
    "collapsed": false
   },
   "outputs": [
    {
     "name": "stdout",
     "output_type": "stream",
     "text": [
      "[5, -0.07746314202760146] ()\n",
      "[6, 0.36662617322346197] ()\n",
      "[5, 0.7260910848295363] ()\n",
      "[6, 0.6050168739757986] ()\n",
      "[7, 0.6705869438040826] ()\n",
      "[7, 0.6129691427205783] ()\n",
      "[7, 0.05453324345460436] ()\n",
      "[6, -0.10454233723733913] ()\n",
      "[7, 0.08562825029270821] ()\n",
      "[7, 0.04807214624813033] ()\n"
     ]
    }
   ],
   "source": [
    "for i in pop:\n",
    "    print i, i.fitness\n",
    "    \n",
    "#print pop[2]"
   ]
  },
  {
   "cell_type": "code",
   "execution_count": 33,
   "metadata": {
    "collapsed": false
   },
   "outputs": [],
   "source": [
    "#individual as they are are not hashable. The follwing function transforms individuals into strings that are hashable\n",
    "# two individuals with the same hash are identical and indistinguishable\n",
    "def easy_hash(individual):\n",
    "    return hash(str(individual))"
   ]
  },
  {
   "cell_type": "code",
   "execution_count": 34,
   "metadata": {
    "collapsed": false
   },
   "outputs": [
    {
     "name": "stdout",
     "output_type": "stream",
     "text": [
      "1632122817642256467 0.1\n",
      "-5758481987059324172 0.1\n",
      "8706749800322746703 0.5\n",
      "-2577923585424623574 0.1\n",
      "246897954842054910 0.1\n",
      "-5143696857902538846 0.1\n",
      "-930972714962501020 0.1\n",
      "-3169920105947014212 0.1\n",
      "-2294056917171226534 0.1\n",
      "5277124379467530295 0.1\n"
     ]
    }
   ],
   "source": [
    "user_evaluation={}\n",
    "# hash of a tuple \n",
    "# All the individual in the population have initial user evaluation equal to 0.1\n",
    "for ind in pop:\n",
    "    user_evaluation[easy_hash(ind)]=0.1\n",
    "# the third individual in the population (i.e. index=2) has user evaluation = 0.5\n",
    "user_evaluation[easy_hash(pop[2])]=0.5\n",
    "\n",
    "for ind in pop:\n",
    "    print easy_hash(ind), user_evaluation[easy_hash(ind)]"
   ]
  },
  {
   "cell_type": "code",
   "execution_count": 38,
   "metadata": {
    "collapsed": true
   },
   "outputs": [],
   "source": [
    "def InteractiveFitness(individual):\n",
    "    #print hash((individual[0],individual[1]))\n",
    "    if easy_hash(individual) in user_evaluation:\n",
    "        return (user_evaluation[easy_hash(individual)],)\n",
    "    else:\n",
    "        return (0.0,)\n",
    "    #return (0.5,)"
   ]
  },
  {
   "cell_type": "code",
   "execution_count": 39,
   "metadata": {
    "collapsed": true
   },
   "outputs": [],
   "source": [
    "toolbox.register(\"evaluate\", InteractiveFitness)\n",
    "toolbox.register(\"mate\", tools.cxTwoPoint)\n",
    "toolbox.register(\"mutate\", tools.mutFlipBit, indpb=0.05)\n",
    "toolbox.register(\"select\", tools.selTournament, tournsize=3)"
   ]
  },
  {
   "cell_type": "code",
   "execution_count": 40,
   "metadata": {
    "collapsed": false
   },
   "outputs": [
    {
     "name": "stdout",
     "output_type": "stream",
     "text": [
      "Current Generation 2\n"
     ]
    }
   ],
   "source": [
    "GEN_SIZE = 1\n",
    "GENERATION=GENERATION+GEN_SIZE\n",
    "print(\"Current Generation \"+str(GENERATION))\n",
    "result = algorithms.eaSimple(pop, toolbox, cxpb=0.5, mutpb=0.2, ngen=GEN_SIZE, verbose=False)"
   ]
  },
  {
   "cell_type": "code",
   "execution_count": null,
   "metadata": {
    "collapsed": true
   },
   "outputs": [],
   "source": []
  },
  {
   "cell_type": "code",
   "execution_count": null,
   "metadata": {
    "collapsed": true
   },
   "outputs": [],
   "source": []
  }
 ],
 "metadata": {
  "kernelspec": {
   "display_name": "Python 2",
   "language": "python",
   "name": "python2"
  },
  "language_info": {
   "codemirror_mode": {
    "name": "ipython",
    "version": 2
   },
   "file_extension": ".py",
   "mimetype": "text/x-python",
   "name": "python",
   "nbconvert_exporter": "python",
   "pygments_lexer": "ipython2",
   "version": "2.7.11+"
  }
 },
 "nbformat": 4,
 "nbformat_minor": 0
}
