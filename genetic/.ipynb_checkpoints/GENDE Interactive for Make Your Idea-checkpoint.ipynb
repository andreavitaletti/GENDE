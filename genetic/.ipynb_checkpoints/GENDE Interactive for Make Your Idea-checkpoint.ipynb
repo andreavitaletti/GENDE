{
 "cells": [
  {
   "cell_type": "markdown",
   "metadata": {},
   "source": [
    "# GENDE\n",
    "\n",
    "**GEN**etic **DE**sign ... notice that Gente - with a t - in Italian means people"
   ]
  },
  {
   "cell_type": "markdown",
   "metadata": {
    "internals": {
     "slide_type": "subslide"
    },
    "slideshow": {
     "slide_type": "slide"
    }
   },
   "source": [
    "# Coding the problem"
   ]
  },
  {
   "cell_type": "markdown",
   "metadata": {},
   "source": [
    "![title](img/explanation.jpg)"
   ]
  },
  {
   "cell_type": "code",
   "execution_count": 1,
   "metadata": {
    "collapsed": true,
    "internals": {
     "frag_helper": "fragment_end",
     "frag_number": 12
    },
    "slideshow": {
     "slide_type": "-"
    }
   },
   "outputs": [],
   "source": [
    "import random\n",
    "from deap import algorithms, base, creator, tools"
   ]
  },
  {
   "cell_type": "code",
   "execution_count": 2,
   "metadata": {
    "collapsed": false,
    "internals": {
     "frag_helper": "fragment_end",
     "frag_number": 13
    },
    "slideshow": {
     "slide_type": "-"
    }
   },
   "outputs": [],
   "source": [
    "creator.create(\"FitnessMax\", base.Fitness, weights=(1.0,))\n",
    "creator.create(\"Individual\", list, fitness=creator.FitnessMax)"
   ]
  },
  {
   "cell_type": "code",
   "execution_count": 3,
   "metadata": {
    "collapsed": false,
    "internals": {},
    "slideshow": {
     "slide_type": "-"
    }
   },
   "outputs": [],
   "source": [
    "toolbox = base.Toolbox()"
   ]
  },
  {
   "cell_type": "code",
   "execution_count": 4,
   "metadata": {
    "collapsed": false,
    "internals": {
     "frag_helper": "fragment_end",
     "frag_number": 17
    },
    "slideshow": {
     "slide_type": "fragment"
    }
   },
   "outputs": [],
   "source": [
    "# random.randint Return random integers from low (INT_MIN inclusive) to high (INT_MAX exclusive).\n",
    "# the earing is made of 8 elements each defined by sides and radius \n",
    "# each element can be inhibited \n",
    "# [inibitore, orientamento,  raggio, facce, altezza]\n",
    "# 3D printer max diameter 20 max height 30 \n",
    "\n",
    "SIDES_MIN, SIDES_MAX = 3, 18\n",
    "RADIUS_MIN, RADIUS_MAX = 5, 20\n",
    "HEIGHT_MIN, HEIGHT_MAX = 2, 5\n",
    "ELEMENTS = 6\n",
    "\n",
    "toolbox.register(\"sides\", random.randint, SIDES_MIN, SIDES_MAX) \n",
    "toolbox.register(\"radius\", random.randint, RADIUS_MIN, RADIUS_MAX)\n",
    "toolbox.register(\"height\", random.randint, HEIGHT_MIN, HEIGHT_MAX)\n",
    "toolbox.register(\"inhibitor\", random.randint,0,1)\n",
    "toolbox.register(\"individual\", tools.initCycle, creator.Individual,\n",
    "                 (toolbox.inhibitor, toolbox.radius, toolbox.sides, toolbox.height), n=ELEMENTS)\n",
    "\n",
    "toolbox.register(\"population\", tools.initRepeat, list, toolbox.individual)"
   ]
  },
  {
   "cell_type": "markdown",
   "metadata": {
    "internals": {
     "frag_helper": "fragment_end",
     "frag_number": 18,
     "slide_type": "subslide"
    },
    "slideshow": {
     "slide_type": "slide"
    }
   },
   "source": [
    "# Running the experiment"
   ]
  },
  {
   "cell_type": "markdown",
   "metadata": {},
   "source": [
    "## Initialization i.e. generation 0"
   ]
  },
  {
   "cell_type": "code",
   "execution_count": 5,
   "metadata": {
    "collapsed": false,
    "internals": {
     "frag_helper": "fragment_end",
     "frag_number": 18
    },
    "slideshow": {
     "slide_type": "-"
    }
   },
   "outputs": [],
   "source": [
    "# This is the initial population\n",
    "\n",
    "POP_SIZE=10\n",
    "GENERATION=0\n",
    "pop = toolbox.population(n=POP_SIZE) # n=300 size of the population"
   ]
  },
  {
   "cell_type": "code",
   "execution_count": 6,
   "metadata": {
    "collapsed": false
   },
   "outputs": [
    {
     "name": "stdout",
     "output_type": "stream",
     "text": [
      "[[2, 3, 4, 8], [0, 1, 3, 8], [4, 5, 8, 9], [1, 2, 4, 9], [0, 3, 6, 8], [0, 1, 6, 9], [4, 5, 7, 8], [0, 2, 8, 9], [0, 1, 2, 8], [1, 2, 6, 7], [0, 1, 5, 8], [1, 5, 6, 9], [0, 5, 7, 8], [0, 2, 3, 8], [0, 7, 8, 9], [0, 1, 2, 5], [0, 2, 7, 8], [0, 2, 5, 9], [0, 1, 3, 5], [3, 5, 6, 8], [0, 2, 3, 7], [2, 4, 7, 8], [4, 6, 7, 8], [2, 3, 4, 9], [1, 3, 5, 8], [0, 3, 5, 7], [0, 1, 2, 4], [3, 4, 8, 9], [0, 4, 7, 9], [1, 3, 6, 8], [2, 3, 4, 5], [1, 2, 5, 7], [1, 2, 5, 8], [0, 1, 4, 7], [2, 4, 6, 7], [2, 6, 8, 9], [4, 6, 8, 9], [4, 5, 6, 7], [0, 3, 4, 9], [4, 6, 7, 9], [0, 2, 6, 8], [0, 4, 6, 9], [3, 4, 6, 8], [0, 1, 4, 6], [0, 1, 2, 3], [0, 3, 5, 9], [3, 4, 5, 9], [0, 2, 6, 9], [1, 2, 4, 8], [2, 3, 5, 7], [0, 5, 6, 7], [2, 4, 5, 9], [2, 3, 7, 8], [5, 6, 8, 9], [0, 2, 4, 8], [1, 4, 5, 6], [2, 4, 6, 9], [0, 2, 6, 7], [1, 3, 4, 5], [1, 2, 3, 9], [1, 2, 5, 6], [0, 1, 5, 9], [1, 6, 8, 9], [3, 4, 7, 9], [1, 2, 3, 8], [1, 2, 3, 6], [1, 4, 5, 8], [3, 5, 6, 7], [6, 7, 8, 9], [4, 5, 6, 9], [0, 1, 4, 9], [2, 4, 8, 9], [0, 2, 7, 9], [1, 5, 6, 8], [1, 3, 4, 8], [3, 5, 8, 9], [2, 5, 6, 7], [1, 4, 6, 7], [0, 5, 6, 8], [1, 2, 4, 5], [2, 3, 6, 9], [4, 5, 6, 8], [0, 1, 6, 7], [2, 4, 5, 8], [1, 5, 6, 7], [0, 2, 4, 9], [2, 4, 6, 8], [0, 1, 2, 6], [1, 2, 7, 9], [1, 3, 4, 6], [1, 3, 8, 9], [0, 4, 6, 8], [0, 3, 4, 8], [0, 4, 8, 9], [3, 4, 6, 9], [0, 3, 4, 6], [3, 4, 7, 8], [1, 5, 7, 9], [0, 2, 5, 8], [2, 7, 8, 9], [1, 2, 7, 8], [0, 2, 4, 7], [1, 2, 3, 4], [1, 4, 6, 9], [2, 4, 7, 9], [0, 4, 5, 9], [2, 5, 7, 9], [3, 4, 5, 7], [1, 5, 7, 8], [5, 6, 7, 9], [0, 2, 3, 4], [0, 5, 7, 9], [1, 3, 5, 7], [1, 4, 8, 9], [0, 2, 5, 6], [1, 6, 7, 9], [0, 2, 3, 6], [1, 2, 8, 9], [3, 5, 7, 8], [0, 3, 8, 9], [0, 1, 3, 9], [0, 5, 8, 9], [2, 3, 7, 9], [2, 6, 7, 8], [1, 2, 5, 9], [2, 5, 6, 8], [2, 3, 8, 9], [4, 5, 7, 9], [1, 4, 5, 9], [3, 5, 7, 9], [0, 3, 7, 8], [0, 1, 6, 8], [0, 1, 4, 5], [0, 3, 7, 9], [0, 1, 3, 6], [2, 4, 5, 7], [1, 3, 6, 7], [2, 3, 5, 8], [2, 3, 4, 7], [0, 4, 5, 6], [1, 4, 7, 9], [0, 1, 2, 7], [0, 1, 3, 4], [0, 1, 5, 6], [0, 4, 5, 7], [0, 2, 4, 6], [2, 3, 4, 6], [0, 3, 5, 6], [0, 1, 7, 8], [0, 2, 3, 5], [3, 4, 5, 8], [0, 6, 7, 9], [3, 6, 7, 8], [1, 2, 3, 5], [1, 2, 3, 7], [0, 4, 6, 7], [2, 5, 6, 9], [0, 1, 3, 7], [1, 3, 4, 7], [0, 3, 6, 9], [2, 5, 7, 8], [1, 4, 6, 8], [1, 2, 4, 6], [0, 4, 5, 8], [0, 1, 7, 9], [1, 3, 5, 6], [3, 6, 8, 9], [1, 6, 7, 8], [2, 3, 5, 9], [0, 1, 4, 8], [2, 3, 6, 8], [0, 3, 6, 7], [0, 1, 2, 9], [1, 5, 8, 9], [0, 1, 5, 7], [2, 5, 8, 9], [3, 7, 8, 9], [0, 3, 4, 7], [1, 4, 5, 7], [0, 6, 7, 8], [2, 4, 5, 6], [0, 4, 7, 8], [5, 7, 8, 9], [1, 3, 5, 9], [0, 1, 8, 9], [0, 2, 3, 9], [0, 3, 5, 8], [1, 7, 8, 9], [3, 4, 6, 7], [0, 5, 6, 9], [2, 3, 6, 7], [2, 6, 7, 9], [1, 2, 6, 8], [1, 3, 6, 9], [1, 3, 4, 9], [3, 5, 6, 9], [0, 6, 8, 9], [0, 2, 5, 7], [5, 6, 7, 8], [3, 4, 5, 6], [2, 3, 5, 6], [3, 6, 7, 9], [1, 3, 7, 9], [1, 2, 4, 7], [0, 3, 4, 5], [4, 7, 8, 9], [1, 2, 6, 9], [1, 4, 7, 8], [0, 2, 4, 5], [1, 3, 7, 8]]\n"
     ]
    }
   ],
   "source": [
    "# These are the combinations to allow user to evaluate all possible individuals\n",
    "\n",
    "import itertools\n",
    "import json\n",
    "import random\n",
    "\n",
    "output = list(itertools.combinations(list(xrange(POP_SIZE)),4))\n",
    "random.shuffle(output)\n",
    "print json.dumps(output)"
   ]
  },
  {
   "cell_type": "code",
   "execution_count": 7,
   "metadata": {
    "collapsed": false
   },
   "outputs": [
    {
     "name": "stdout",
     "output_type": "stream",
     "text": [
      "{\"combinations\": [[2, 3, 4, 8], [0, 1, 3, 8], [4, 5, 8, 9], [1, 2, 4, 9], [0, 3, 6, 8], [0, 1, 6, 9], [4, 5, 7, 8], [0, 2, 8, 9], [0, 1, 2, 8], [1, 2, 6, 7], [0, 1, 5, 8], [1, 5, 6, 9], [0, 5, 7, 8], [0, 2, 3, 8], [0, 7, 8, 9], [0, 1, 2, 5], [0, 2, 7, 8], [0, 2, 5, 9], [0, 1, 3, 5], [3, 5, 6, 8], [0, 2, 3, 7], [2, 4, 7, 8], [4, 6, 7, 8], [2, 3, 4, 9], [1, 3, 5, 8], [0, 3, 5, 7], [0, 1, 2, 4], [3, 4, 8, 9], [0, 4, 7, 9], [1, 3, 6, 8], [2, 3, 4, 5], [1, 2, 5, 7], [1, 2, 5, 8], [0, 1, 4, 7], [2, 4, 6, 7], [2, 6, 8, 9], [4, 6, 8, 9], [4, 5, 6, 7], [0, 3, 4, 9], [4, 6, 7, 9], [0, 2, 6, 8], [0, 4, 6, 9], [3, 4, 6, 8], [0, 1, 4, 6], [0, 1, 2, 3], [0, 3, 5, 9], [3, 4, 5, 9], [0, 2, 6, 9], [1, 2, 4, 8], [2, 3, 5, 7], [0, 5, 6, 7], [2, 4, 5, 9], [2, 3, 7, 8], [5, 6, 8, 9], [0, 2, 4, 8], [1, 4, 5, 6], [2, 4, 6, 9], [0, 2, 6, 7], [1, 3, 4, 5], [1, 2, 3, 9], [1, 2, 5, 6], [0, 1, 5, 9], [1, 6, 8, 9], [3, 4, 7, 9], [1, 2, 3, 8], [1, 2, 3, 6], [1, 4, 5, 8], [3, 5, 6, 7], [6, 7, 8, 9], [4, 5, 6, 9], [0, 1, 4, 9], [2, 4, 8, 9], [0, 2, 7, 9], [1, 5, 6, 8], [1, 3, 4, 8], [3, 5, 8, 9], [2, 5, 6, 7], [1, 4, 6, 7], [0, 5, 6, 8], [1, 2, 4, 5], [2, 3, 6, 9], [4, 5, 6, 8], [0, 1, 6, 7], [2, 4, 5, 8], [1, 5, 6, 7], [0, 2, 4, 9], [2, 4, 6, 8], [0, 1, 2, 6], [1, 2, 7, 9], [1, 3, 4, 6], [1, 3, 8, 9], [0, 4, 6, 8], [0, 3, 4, 8], [0, 4, 8, 9], [3, 4, 6, 9], [0, 3, 4, 6], [3, 4, 7, 8], [1, 5, 7, 9], [0, 2, 5, 8], [2, 7, 8, 9], [1, 2, 7, 8], [0, 2, 4, 7], [1, 2, 3, 4], [1, 4, 6, 9], [2, 4, 7, 9], [0, 4, 5, 9], [2, 5, 7, 9], [3, 4, 5, 7], [1, 5, 7, 8], [5, 6, 7, 9], [0, 2, 3, 4], [0, 5, 7, 9], [1, 3, 5, 7], [1, 4, 8, 9], [0, 2, 5, 6], [1, 6, 7, 9], [0, 2, 3, 6], [1, 2, 8, 9], [3, 5, 7, 8], [0, 3, 8, 9], [0, 1, 3, 9], [0, 5, 8, 9], [2, 3, 7, 9], [2, 6, 7, 8], [1, 2, 5, 9], [2, 5, 6, 8], [2, 3, 8, 9], [4, 5, 7, 9], [1, 4, 5, 9], [3, 5, 7, 9], [0, 3, 7, 8], [0, 1, 6, 8], [0, 1, 4, 5], [0, 3, 7, 9], [0, 1, 3, 6], [2, 4, 5, 7], [1, 3, 6, 7], [2, 3, 5, 8], [2, 3, 4, 7], [0, 4, 5, 6], [1, 4, 7, 9], [0, 1, 2, 7], [0, 1, 3, 4], [0, 1, 5, 6], [0, 4, 5, 7], [0, 2, 4, 6], [2, 3, 4, 6], [0, 3, 5, 6], [0, 1, 7, 8], [0, 2, 3, 5], [3, 4, 5, 8], [0, 6, 7, 9], [3, 6, 7, 8], [1, 2, 3, 5], [1, 2, 3, 7], [0, 4, 6, 7], [2, 5, 6, 9], [0, 1, 3, 7], [1, 3, 4, 7], [0, 3, 6, 9], [2, 5, 7, 8], [1, 4, 6, 8], [1, 2, 4, 6], [0, 4, 5, 8], [0, 1, 7, 9], [1, 3, 5, 6], [3, 6, 8, 9], [1, 6, 7, 8], [2, 3, 5, 9], [0, 1, 4, 8], [2, 3, 6, 8], [0, 3, 6, 7], [0, 1, 2, 9], [1, 5, 8, 9], [0, 1, 5, 7], [2, 5, 8, 9], [3, 7, 8, 9], [0, 3, 4, 7], [1, 4, 5, 7], [0, 6, 7, 8], [2, 4, 5, 6], [0, 4, 7, 8], [5, 7, 8, 9], [1, 3, 5, 9], [0, 1, 8, 9], [0, 2, 3, 9], [0, 3, 5, 8], [1, 7, 8, 9], [3, 4, 6, 7], [0, 5, 6, 9], [2, 3, 6, 7], [2, 6, 7, 9], [1, 2, 6, 8], [1, 3, 6, 9], [1, 3, 4, 9], [3, 5, 6, 9], [0, 6, 8, 9], [0, 2, 5, 7], [5, 6, 7, 8], [3, 4, 5, 6], [2, 3, 5, 6], [3, 6, 7, 9], [1, 3, 7, 9], [1, 2, 4, 7], [0, 3, 4, 5], [4, 7, 8, 9], [1, 2, 6, 9], [1, 4, 7, 8], [0, 2, 4, 5], [1, 3, 7, 8]], \"generation\": 0, \"experiment\": 0, \"round\": 0, \"population\": [{\"positive_feedback\": 0, \"chromosome\": [0, 6, 9, 5, 1, 8, 7, 4, 0, 7, 9, 2, 1, 19, 4, 2, 1, 20, 15, 2, 1, 8, 8, 5]}, {\"positive_feedback\": 0, \"chromosome\": [1, 5, 6, 4, 1, 14, 11, 5, 1, 5, 18, 3, 1, 16, 18, 2, 1, 10, 9, 4, 1, 8, 17, 2]}, {\"positive_feedback\": 0, \"chromosome\": [0, 20, 5, 2, 1, 19, 14, 2, 0, 7, 11, 3, 1, 14, 9, 3, 0, 20, 12, 5, 0, 8, 17, 2]}, {\"positive_feedback\": 0, \"chromosome\": [1, 7, 5, 2, 0, 17, 5, 3, 0, 20, 14, 4, 0, 14, 15, 2, 1, 16, 10, 5, 1, 18, 7, 2]}, {\"positive_feedback\": 0, \"chromosome\": [0, 11, 18, 5, 1, 10, 4, 2, 1, 18, 7, 4, 1, 7, 16, 3, 1, 5, 7, 5, 1, 15, 15, 5]}, {\"positive_feedback\": 0, \"chromosome\": [1, 12, 9, 3, 1, 11, 9, 2, 0, 16, 16, 3, 0, 9, 17, 3, 0, 6, 3, 5, 1, 9, 5, 3]}, {\"positive_feedback\": 0, \"chromosome\": [1, 11, 15, 3, 0, 10, 16, 4, 1, 14, 16, 5, 1, 5, 13, 2, 0, 11, 9, 5, 0, 11, 15, 2]}, {\"positive_feedback\": 0, \"chromosome\": [0, 20, 8, 4, 0, 6, 6, 2, 0, 10, 12, 3, 0, 14, 12, 2, 0, 10, 8, 3, 1, 18, 13, 5]}, {\"positive_feedback\": 0, \"chromosome\": [1, 7, 4, 3, 0, 13, 11, 4, 1, 19, 10, 3, 1, 19, 12, 3, 0, 7, 9, 4, 0, 15, 12, 2]}, {\"positive_feedback\": 0, \"chromosome\": [0, 10, 3, 2, 1, 15, 10, 2, 1, 13, 3, 3, 0, 18, 8, 5, 0, 9, 8, 4, 1, 12, 15, 5]}]}\n",
      "\n",
      "\n",
      "initial configuraion wrote into: 06112017generation0.json\n"
     ]
    }
   ],
   "source": [
    "# Init json file\n",
    "import datetime\n",
    "\n",
    "now = datetime.datetime.now()\n",
    "\n",
    "jfile = {}\n",
    "\n",
    "populat = []\n",
    "\n",
    "for i in pop:\n",
    "    dict2 = {}\n",
    "    dict2[\"chromosome\"] = i\n",
    "    dict2[\"positive_feedback\"]=0\n",
    "    populat.append(dict2)\n",
    "    \n",
    "jfile[\"combinations\"] = output\n",
    "jfile[\"population\"]=populat\n",
    "jfile[\"experiment\"] = 0\n",
    "jfile[\"generation\"] = 0\n",
    "jfile[\"round\"] = 0\n",
    "\n",
    "\n",
    "print json.dumps(jfile)\n",
    "\n",
    "with open(now.strftime(\"%d%m%Y\")+\"generation\"+str(GENERATION)+\".json\", \"w\") as outfile:\n",
    "    json.dump(jfile, outfile, indent=4)\n",
    "print\n",
    "print\n",
    "print \"initial configuraion wrote into: \"+now.strftime(\"%d%m%Y\")+\"generation\"+str(GENERATION)+\".json\""
   ]
  },
  {
   "cell_type": "markdown",
   "metadata": {},
   "source": [
    "# In Openscad\n",
    "\n",
    "```\n",
    "//\"chromosome\": [6, 32, 0, 3, 38, 0, 1, 7, 0, 1, 30, 0, 4, 33, 0, 5, 35, 1, 5, 7, 1, 2, 28, 1]\n",
    "C = [6, 32, 1, 3, 38, 0, 1, 7, 0, 1, 30, 0, 4, 33, 0, 5, 35, 1, 5, 7, 1, 2, 28, 1];\n",
    "\n",
    "for (i=[0:3:24]){\n",
    "    if (C[i+2]!=0)\n",
    "        translate([add_up_to(i),0])\n",
    "            linear_extrude(height = 2)\n",
    "                circle(C[i+1], $fn=C[i]);\n",
    "}\n",
    "\n",
    "\n",
    " // recursion example: add all integers up to n\n",
    " function add_up_to(n) = ( n==0 ? 0 : C[n+2]== 1 ? C[n+1]*2 + add_up_to(n-3) : add_up_to(n-3) );\n",
    " ```\n",
    " \n",
    " https://en.wikibooks.org/wiki/OpenSCAD_User_Manual/Using_OpenSCAD_in_a_command_line_environment"
   ]
  },
  {
   "cell_type": "markdown",
   "metadata": {},
   "source": [
    "## Evolution and user feedback - iteration\n",
    "\n",
    "### Intial population is generation 0"
   ]
  },
  {
   "cell_type": "code",
   "execution_count": 8,
   "metadata": {
    "collapsed": false
   },
   "outputs": [
    {
     "name": "stdout",
     "output_type": "stream",
     "text": [
      "generation in input0\n",
      "0.119047619048 [5, 28, 0, 8, 26, 1, 7, 22, 0, 8, 26, 0, 4, 9, 1, 7, 16, 1, 7, 18, 1, 3, 39, 1] 1237973175444262148\n",
      "0.119047619048 [7, 32, 0, 9, 5, 1, 2, 3, 1, 4, 23, 0, 5, 6, 0, 7, 33, 1, 7, 22, 1, 8, 7, 1] 2318934347119220681\n",
      "0.047619047619 [2, 19, 0, 5, 33, 0, 3, 33, 0, 6, 19, 1, 4, 36, 1, 5, 6, 0, 4, 16, 0, 4, 32, 0] -6904514810256845639\n",
      "0.119047619048 [4, 32, 0, 1, 38, 1, 4, 25, 1, 5, 15, 1, 1, 12, 1, 9, 30, 1, 3, 32, 0, 4, 13, 0] -325008757606563196\n",
      "0.119047619048 [7, 1, 0, 6, 22, 1, 5, 28, 1, 8, 5, 1, 8, 10, 0, 3, 16, 1, 8, 28, 0, 3, 21, 1] 5902444204474368304\n",
      "0.0714285714286 [7, 4, 0, 9, 33, 1, 3, 11, 1, 1, 35, 0, 7, 6, 0, 4, 11, 1, 2, 2, 0, 3, 18, 0] -7783293990906047113\n",
      "0.0952380952381 [4, 1, 1, 8, 10, 1, 5, 27, 0, 4, 22, 0, 8, 6, 1, 7, 36, 0, 9, 5, 1, 4, 22, 0] -4882913895799089137\n",
      "0.0952380952381 [1, 6, 1, 1, 7, 0, 7, 5, 1, 7, 10, 1, 6, 13, 1, 5, 13, 0, 3, 22, 0, 7, 6, 0] 1476643611028386240\n",
      "0.119047619048 [1, 17, 0, 3, 18, 1, 5, 27, 1, 7, 2, 1, 6, 3, 1, 6, 26, 0, 1, 4, 1, 7, 21, 0] -1026040506299102008\n",
      "0.0952380952381 [1, 36, 0, 9, 16, 0, 3, 41, 1, 2, 20, 1, 2, 14, 1, 6, 21, 1, 7, 38, 0, 9, 38, 0] -6738781844393125738\n",
      "{1476643611028386240: 0.09523809523809523, -6904514810256845639: 0.047619047619047616, -325008757606563196: 0.11904761904761904, -1026040506299102008: 0.11904761904761904, 2318934347119220681: 0.11904761904761904, -4882913895799089137: 0.09523809523809523, 5902444204474368304: 0.11904761904761904, -6738781844393125738: 0.09523809523809523, -7783293990906047113: 0.07142857142857142, 1237973175444262148: 0.11904761904761904}\n"
     ]
    }
   ],
   "source": [
    "# Normalization of fitness\n",
    "\n",
    "#individual as they are are not hashable. The follwing function transforms individuals into strings that are hashable\n",
    "# two individuals with the same hash are identical and indistinguishable\n",
    "def easy_hash(individual):\n",
    "    return hash(str(individual))\n",
    "\n",
    "import json\n",
    "\n",
    "g = input(\"generation in input\")\n",
    "\n",
    "GENERATION = g\n",
    "\n",
    "with open(\"generation\"+str(g)+\"_results.json\") as json_data:\n",
    "    d = json.load(json_data)\n",
    "    # print(d['population'][0]['chromosome'])\n",
    "\n",
    "f = 0;    \n",
    "for i in d['population']:\n",
    "    f=f+i['positive_feedback']\n",
    "    \n",
    "user_evaluation={}    \n",
    "\n",
    "if (f==0):\n",
    "    print \"something went wrong ... there are no user feedback in the json file. Please check.\"\n",
    "else:\n",
    "    for i in d['population']:\n",
    "        i['positive_feedback'] = i['positive_feedback']/float(f)\n",
    "        print i['positive_feedback'], i['chromosome'],easy_hash(i['chromosome'])\n",
    "        user_evaluation[easy_hash(i['chromosome'])]=i['positive_feedback']\n",
    "    \n",
    "print user_evaluation"
   ]
  },
  {
   "cell_type": "code",
   "execution_count": 9,
   "metadata": {
    "collapsed": false
   },
   "outputs": [],
   "source": [
    "def InteractiveFitness(individual):\n",
    "    if easy_hash(individual) in user_evaluation:\n",
    "        return (user_evaluation[easy_hash(individual)],)\n",
    "    else:\n",
    "        return (0.0,)"
   ]
  },
  {
   "cell_type": "code",
   "execution_count": 10,
   "metadata": {
    "collapsed": true
   },
   "outputs": [],
   "source": [
    "toolbox.register(\"evaluate\", InteractiveFitness)\n",
    "toolbox.register(\"mate\", tools.cxTwoPoint)\n",
    "toolbox.register(\"mutate\", tools.mutFlipBit, indpb=0.05)\n",
    "toolbox.register(\"select\", tools.selTournament, tournsize=3)"
   ]
  },
  {
   "cell_type": "code",
   "execution_count": 11,
   "metadata": {
    "collapsed": false
   },
   "outputs": [
    {
     "name": "stdout",
     "output_type": "stream",
     "text": [
      "Current Generation 1\n"
     ]
    }
   ],
   "source": [
    "GEN_SIZE = 1\n",
    "GENERATION=GENERATION+GEN_SIZE\n",
    "print(\"Current Generation \"+str(GENERATION))\n",
    "result = algorithms.eaSimple(pop, toolbox, cxpb=0.5, mutpb=0.2, ngen=GEN_SIZE, verbose=False)"
   ]
  },
  {
   "cell_type": "code",
   "execution_count": 12,
   "metadata": {
    "collapsed": false
   },
   "outputs": [
    {
     "name": "stdout",
     "output_type": "stream",
     "text": [
      "{\"combinations\": [[2, 7], [2, 3], [1, 6], [0, 6], [0, 2], [7, 9], [2, 5], [1, 3], [0, 7], [3, 9], [8, 9], [0, 5], [4, 8], [0, 3], [2, 4], [4, 7], [7, 8], [0, 1], [0, 8], [2, 9], [5, 8], [5, 6], [3, 7], [3, 8], [6, 8], [3, 4], [1, 2], [1, 9], [5, 9], [4, 6], [0, 9], [1, 8], [4, 9], [2, 8], [1, 4], [1, 5], [5, 7], [0, 4], [1, 7], [3, 6], [4, 5], [3, 5], [2, 6], [6, 9], [6, 7]], \"generation\": 1, \"experiment\": 0, \"round\": 0, \"population\": [{\"positive_feedback\": 0, \"chromosome\": [3, 31, 1, 3, 16, 0, 5, 28, 0, 6, 22, 0, 5, 25, 1, 5, 22, 1, 3, 41, 1, 9, 18, 1]}, {\"positive_feedback\": 0, \"chromosome\": [9, 1, 0, 3, 38, 0, 6, 10, 0, 1, 25, 1, 8, 2, 0, 7, 39, 0, 8, 37, 0, 2, 36, 0]}, {\"positive_feedback\": 0, \"chromosome\": [9, 34, 0, 5, 9, 0, 9, 29, 0, 4, 6, 0, 3, 24, 1, 2, 20, 0, 4, 26, 1, 8, 3, 1]}, {\"positive_feedback\": 0, \"chromosome\": [9, 34, 0, 5, 9, 0, 9, 29, 0, 4, 6, 0, 3, 24, 1, 2, 20, 0, 4, 26, 1, 8, 3, 1]}, {\"positive_feedback\": 0, \"chromosome\": [1, 25, 1, 9, 25, 0, 2, 10, 1, 7, 24, 1, 7, 33, 0, 2, 28, 1, 3, 41, 1, 9, 14, 0]}, {\"positive_feedback\": 0, \"chromosome\": [3, 31, 1, 3, 16, 0, 5, 28, 0, 6, 22, 0, 5, 25, 1, 5, 22, 0, 8, 9, 0, 8, 18, 1]}, {\"positive_feedback\": 0, \"chromosome\": [3, 31, 1, 3, 16, 0, 5, 28, 0, 6, 22, 0, 5, 25, 1, 5, 22, 1, 3, 41, 1, 9, 18, 1]}, {\"positive_feedback\": 0, \"chromosome\": [4, 10, 0, 6, 22, 0, 9, 13, 0, 7, 0, 1, 8, 16, 0, 9, 33, 0, 2, 10, 1, 2, 10, 0]}, {\"positive_feedback\": 0, \"chromosome\": [9, 1, 0, 3, 38, 0, 6, 10, 0, 1, 25, 1, 8, 2, 0, 7, 39, 0, 8, 37, 0, 2, 36, 0]}, {\"positive_feedback\": 0, \"chromosome\": [4, 10, 0, 6, 22, 0, 9, 13, 0, 7, 18, 1, 8, 16, 0, 9, 33, 0, 2, 10, 1, 2, 10, 0]}]}\n"
     ]
    }
   ],
   "source": [
    "#Next generation\n",
    "\n",
    "jfile = {}\n",
    "\n",
    "populat = []\n",
    "\n",
    "for i in pop:\n",
    "    dict2 = {}\n",
    "    dict2[\"chromosome\"] = i\n",
    "    dict2[\"positive_feedback\"]=0\n",
    "    populat.append(dict2)\n",
    "    \n",
    "jfile[\"combinations\"] = output\n",
    "jfile[\"population\"]=populat\n",
    "jfile[\"experiment\"] = 0\n",
    "jfile[\"generation\"] = GENERATION\n",
    "jfile[\"round\"] = 0\n",
    "\n",
    "\n",
    "print json.dumps(jfile)\n",
    "\n",
    "with open(\"generation\"+str(GENERATION)+\".json\", \"w\") as outfile:\n",
    "    json.dump(jfile, outfile, indent=4)"
   ]
  },
  {
   "cell_type": "code",
   "execution_count": null,
   "metadata": {
    "collapsed": true
   },
   "outputs": [],
   "source": []
  }
 ],
 "metadata": {
  "kernelspec": {
   "display_name": "Python 2",
   "language": "python",
   "name": "python2"
  },
  "language_info": {
   "codemirror_mode": {
    "name": "ipython",
    "version": 2
   },
   "file_extension": ".py",
   "mimetype": "text/x-python",
   "name": "python",
   "nbconvert_exporter": "python",
   "pygments_lexer": "ipython2",
   "version": "2.7.12+"
  }
 },
 "nbformat": 4,
 "nbformat_minor": 0
}
