{
 "cells": [
  {
   "cell_type": "markdown",
   "metadata": {},
   "source": [
    "# GENDE\n",
    "\n",
    "**GEN**etic **DE**sign ... notice that Gente - with a t - in Italian means people"
   ]
  },
  {
   "cell_type": "markdown",
   "metadata": {
    "internals": {
     "slide_type": "subslide"
    },
    "slideshow": {
     "slide_type": "slide"
    }
   },
   "source": [
    "# Coding the problem"
   ]
  },
  {
   "cell_type": "code",
   "execution_count": 1,
   "metadata": {
    "collapsed": false,
    "internals": {
     "frag_helper": "fragment_end",
     "frag_number": 12
    },
    "slideshow": {
     "slide_type": "-"
    }
   },
   "outputs": [],
   "source": [
    "import random\n",
    "from deap import algorithms, base, creator, tools"
   ]
  },
  {
   "cell_type": "code",
   "execution_count": 2,
   "metadata": {
    "collapsed": false,
    "internals": {
     "frag_helper": "fragment_end",
     "frag_number": 13
    },
    "slideshow": {
     "slide_type": "-"
    }
   },
   "outputs": [],
   "source": [
    "creator.create(\"FitnessMax\", base.Fitness, weights=(1.0,))\n",
    "creator.create(\"Individual\", list, fitness=creator.FitnessMax)"
   ]
  },
  {
   "cell_type": "code",
   "execution_count": 3,
   "metadata": {
    "collapsed": false,
    "internals": {},
    "slideshow": {
     "slide_type": "-"
    }
   },
   "outputs": [],
   "source": [
    "toolbox = base.Toolbox()"
   ]
  },
  {
   "cell_type": "code",
   "execution_count": 7,
   "metadata": {
    "collapsed": false,
    "internals": {
     "frag_helper": "fragment_end",
     "frag_number": 17
    },
    "slideshow": {
     "slide_type": "fragment"
    }
   },
   "outputs": [],
   "source": [
    "# random.randint Return random integers from low (INT_MIN inclusive) to high (INT_MAX exclusive).\n",
    "INT_MIN1, INT_MAX1 = 5, 7\n",
    "INT_MIN2, INT_MAX2 = 0, 9\n",
    "N_CYCLES = 1\n",
    "\n",
    "toolbox.register(\"pieces\", random.randint, INT_MIN1, INT_MAX1) \n",
    "toolbox.register(\"seed\", random.randint, INT_MIN2, INT_MAX2)\n",
    "toolbox.register(\"individual\", tools.initCycle, creator.Individual,\n",
    "                 (toolbox.pieces, toolbox.seed), n=N_CYCLES)\n",
    "\n",
    "toolbox.register(\"population\", tools.initRepeat, list, toolbox.individual)"
   ]
  },
  {
   "cell_type": "markdown",
   "metadata": {
    "internals": {
     "frag_helper": "fragment_end",
     "frag_number": 18,
     "slide_type": "subslide"
    },
    "slideshow": {
     "slide_type": "slide"
    }
   },
   "source": [
    "# Running the experiment"
   ]
  },
  {
   "cell_type": "code",
   "execution_count": 19,
   "metadata": {
    "collapsed": false,
    "internals": {
     "frag_helper": "fragment_end",
     "frag_number": 18
    },
    "slideshow": {
     "slide_type": "-"
    }
   },
   "outputs": [],
   "source": [
    "# This is the initial population\n",
    "\n",
    "POP_SIZE=10\n",
    "GENERATION=0\n",
    "pop = toolbox.population(n=POP_SIZE) # n=300 size of the population"
   ]
  },
  {
   "cell_type": "code",
   "execution_count": 20,
   "metadata": {
    "collapsed": false
   },
   "outputs": [
    {
     "name": "stdout",
     "output_type": "stream",
     "text": [
      "[6, 2] ()\n",
      "[7, 8] ()\n",
      "[5, 7] ()\n",
      "[5, 2] ()\n",
      "[7, 8] ()\n",
      "[7, 0] ()\n",
      "[5, 4] ()\n",
      "[7, 6] ()\n",
      "[6, 6] ()\n",
      "[6, 2] ()\n"
     ]
    }
   ],
   "source": [
    "for i in pop:\n",
    "    print i, i.fitness\n",
    "    \n",
    "#print pop[2]"
   ]
  },
  {
   "cell_type": "code",
   "execution_count": 21,
   "metadata": {
    "collapsed": false
   },
   "outputs": [
    {
     "data": {
      "text/plain": [
       "'{\"population\": [{\"chromosome\": {\"seed\": 1, \"pieces\": 1}, \"fitness\": 22}, {\"chromosome\": {\"seed\": 2, \"pieces\": 2}, \"fitness\": 17}, {\"chromosome\": {\"seed\": 4, \"pieces\": 2}, \"fitness\": 17}, {\"chromosome\": {\"seed\": 4, \"pieces\": 3}, \"fitness\": 15}, {\"chromosome\": {\"seed\": 2, \"pieces\": 4}, \"fitness\": 11}]}'"
      ]
     },
     "execution_count": 21,
     "metadata": {},
     "output_type": "execute_result"
    }
   ],
   "source": [
    "import json\n",
    "\n",
    "json.dumps({  \n",
    "  \"population\" : [ {\n",
    "    \"chromosome\" : {\n",
    "      \"pieces\" : 1,\n",
    "      \"seed\" : 1\n",
    "    },\n",
    "    \"fitness\" : 22\n",
    "  }, {\n",
    "    \"chromosome\" : {\n",
    "      \"pieces\" : 2,\n",
    "      \"seed\" : 2\n",
    "    },\n",
    "    \"fitness\" : 17\n",
    "  }, {\n",
    "    \"chromosome\" : {\n",
    "      \"pieces\" : 2,\n",
    "      \"seed\" : 4\n",
    "    },\n",
    "    \"fitness\" : 17\n",
    "  }, {\n",
    "    \"chromosome\" : {\n",
    "      \"pieces\" : 3,\n",
    "      \"seed\" : 4\n",
    "    },\n",
    "    \"fitness\" : 15\n",
    "  }, {\n",
    "    \"chromosome\" : {\n",
    "      \"pieces\" : 4,\n",
    "      \"seed\" : 2\n",
    "    },\n",
    "    \"fitness\" : 11\n",
    "  } ]\n",
    "    })"
   ]
  },
  {
   "cell_type": "code",
   "execution_count": 62,
   "metadata": {
    "collapsed": false
   },
   "outputs": [
    {
     "name": "stdout",
     "output_type": "stream",
     "text": [
      "[[0, 1], [0, 2], [0, 3], [0, 4], [0, 5], [0, 6], [0, 7], [0, 8], [0, 9], [1, 2], [1, 3], [1, 4], [1, 5], [1, 6], [1, 7], [1, 8], [1, 9], [2, 3], [2, 4], [2, 5], [2, 6], [2, 7], [2, 8], [2, 9], [3, 4], [3, 5], [3, 6], [3, 7], [3, 8], [3, 9], [4, 5], [4, 6], [4, 7], [4, 8], [4, 9], [5, 6], [5, 7], [5, 8], [5, 9], [6, 7], [6, 8], [6, 9], [7, 8], [7, 9], [8, 9]]\n"
     ]
    }
   ],
   "source": [
    "import itertools\n",
    "import json\n",
    "\n",
    "output = list(itertools.combinations(list(xrange(POP_SIZE)),2))\n",
    "\n",
    "print json.dumps(output)"
   ]
  },
  {
   "cell_type": "code",
   "execution_count": 68,
   "metadata": {
    "collapsed": false
   },
   "outputs": [
    {
     "name": "stdout",
     "output_type": "stream",
     "text": [
      "{\"combinations\": [[0, 1], [0, 2], [0, 3], [0, 4], [0, 5], [0, 6], [0, 7], [0, 8], [0, 9], [1, 2], [1, 3], [1, 4], [1, 5], [1, 6], [1, 7], [1, 8], [1, 9], [2, 3], [2, 4], [2, 5], [2, 6], [2, 7], [2, 8], [2, 9], [3, 4], [3, 5], [3, 6], [3, 7], [3, 8], [3, 9], [4, 5], [4, 6], [4, 7], [4, 8], [4, 9], [5, 6], [5, 7], [5, 8], [5, 9], [6, 7], [6, 8], [6, 9], [7, 8], [7, 9], [8, 9]], \"current_experiment\": 0, \"current_generation\": 0, \"population\": [{\"chromosome\": {\"seed\": 6, \"pieces\": 2}, \"fitness\": 0}, {\"chromosome\": {\"seed\": 7, \"pieces\": 8}, \"fitness\": 0}, {\"chromosome\": {\"seed\": 5, \"pieces\": 7}, \"fitness\": 0}, {\"chromosome\": {\"seed\": 5, \"pieces\": 2}, \"fitness\": 0}, {\"chromosome\": {\"seed\": 7, \"pieces\": 8}, \"fitness\": 0}, {\"chromosome\": {\"seed\": 7, \"pieces\": 0}, \"fitness\": 0}, {\"chromosome\": {\"seed\": 5, \"pieces\": 4}, \"fitness\": 0}, {\"chromosome\": {\"seed\": 7, \"pieces\": 6}, \"fitness\": 0}, {\"chromosome\": {\"seed\": 6, \"pieces\": 6}, \"fitness\": 0}, {\"chromosome\": {\"seed\": 6, \"pieces\": 2}, \"fitness\": 0}]}\n"
     ]
    }
   ],
   "source": [
    "jfile = {}\n",
    "#pop = [1,2,3]\n",
    "populat = []\n",
    "\n",
    "for i in pop:\n",
    "    dict2 = {}\n",
    "    dict2[\"seed\"] = i[0]\n",
    "    dict2[\"pieces\"] = i[1]\n",
    "\n",
    "    dict3 = {}\n",
    "    dict3[\"chromosome\"]=dict2\n",
    "    dict3[\"fitness\"]=0\n",
    "    populat.append(dict3)\n",
    "    \n",
    "jfile[\"combinations\"] = output\n",
    "jfile[\"population\"]=populat\n",
    "jfile[\"current_experiment\"] = 0\n",
    "jfile[\"current_generation\"] = 0\n",
    "\n",
    "\n",
    "print json.dumps(jfile)\n",
    "\n",
    "with open(\"text.json\", \"w\") as outfile:\n",
    "    json.dump(jfile, outfile, indent=4)\n",
    "\n"
   ]
  },
  {
   "cell_type": "code",
   "execution_count": 66,
   "metadata": {
    "collapsed": false
   },
   "outputs": [],
   "source": [
    "#individual as they are are not hashable. The follwing function transforms individuals into strings that are hashable\n",
    "# two individuals with the same hash are identical and indistinguishable\n",
    "def easy_hash(individual):\n",
    "    return hash(str(individual))"
   ]
  },
  {
   "cell_type": "code",
   "execution_count": 11,
   "metadata": {
    "collapsed": false
   },
   "outputs": [
    {
     "name": "stdout",
     "output_type": "stream",
     "text": [
      "-5637750701873624688 0.1\n",
      "-2305370892011763751 0.1\n",
      "365995503294272008 0.5\n",
      "-5637750701875624674 0.1\n",
      "-5637750701869624692 0.1\n",
      "-5637750701873624688 0.1\n",
      "365995503298272004 0.1\n",
      "365995503301272179 0.1\n",
      "-2305370892009763757 0.1\n",
      "365995503300272062 0.1\n"
     ]
    }
   ],
   "source": [
    "user_evaluation={}\n",
    "# hash of a tuple \n",
    "# All the individual in the population have initial user evaluation equal to 0.1\n",
    "for ind in pop:\n",
    "    user_evaluation[easy_hash(ind)]=0.1\n",
    "# the third individual in the population (i.e. index=2) has user evaluation = 0.5\n",
    "user_evaluation[easy_hash(pop[2])]=0.5\n",
    "\n",
    "for ind in pop:\n",
    "    print easy_hash(ind), user_evaluation[easy_hash(ind)]"
   ]
  },
  {
   "cell_type": "code",
   "execution_count": 38,
   "metadata": {
    "collapsed": true
   },
   "outputs": [],
   "source": [
    "def InteractiveFitness(individual):\n",
    "    #print hash((individual[0],individual[1]))\n",
    "    if easy_hash(individual) in user_evaluation:\n",
    "        return (user_evaluation[easy_hash(individual)],)\n",
    "    else:\n",
    "        return (0.0,)\n",
    "    #return (0.5,)"
   ]
  },
  {
   "cell_type": "code",
   "execution_count": 39,
   "metadata": {
    "collapsed": true
   },
   "outputs": [],
   "source": [
    "toolbox.register(\"evaluate\", InteractiveFitness)\n",
    "toolbox.register(\"mate\", tools.cxTwoPoint)\n",
    "toolbox.register(\"mutate\", tools.mutFlipBit, indpb=0.05)\n",
    "toolbox.register(\"select\", tools.selTournament, tournsize=3)"
   ]
  },
  {
   "cell_type": "code",
   "execution_count": 40,
   "metadata": {
    "collapsed": false
   },
   "outputs": [
    {
     "name": "stdout",
     "output_type": "stream",
     "text": [
      "Current Generation 2\n"
     ]
    }
   ],
   "source": [
    "GEN_SIZE = 1\n",
    "GENERATION=GENERATION+GEN_SIZE\n",
    "print(\"Current Generation \"+str(GENERATION))\n",
    "result = algorithms.eaSimple(pop, toolbox, cxpb=0.5, mutpb=0.2, ngen=GEN_SIZE, verbose=False)"
   ]
  },
  {
   "cell_type": "code",
   "execution_count": 43,
   "metadata": {
    "collapsed": false
   },
   "outputs": [
    {
     "data": {
      "text/plain": [
       "'{\"population\": [{\"chromosome\": {\"seed\": 1, \"pieces\": 1}, \"fitness\": 22}, {\"chromosome\": {\"seed\": 2, \"pieces\": 2}, \"fitness\": 17}, {\"chromosome\": {\"seed\": 4, \"pieces\": 2}, \"fitness\": 17}, {\"chromosome\": {\"seed\": 4, \"pieces\": 3}, \"fitness\": 15}, {\"chromosome\": {\"seed\": 2, \"pieces\": 4}, \"fitness\": 11}]}'"
      ]
     },
     "execution_count": 43,
     "metadata": {},
     "output_type": "execute_result"
    }
   ],
   "source": []
  },
  {
   "cell_type": "code",
   "execution_count": null,
   "metadata": {
    "collapsed": true
   },
   "outputs": [],
   "source": []
  }
 ],
 "metadata": {
  "kernelspec": {
   "display_name": "Python 2",
   "language": "python",
   "name": "python2"
  },
  "language_info": {
   "codemirror_mode": {
    "name": "ipython",
    "version": 2
   },
   "file_extension": ".py",
   "mimetype": "text/x-python",
   "name": "python",
   "nbconvert_exporter": "python",
   "pygments_lexer": "ipython2",
   "version": "2.7.11+"
  }
 },
 "nbformat": 4,
 "nbformat_minor": 0
}
